{
  "nbformat": 4,
  "nbformat_minor": 0,
  "metadata": {
    "colab": {
      "provenance": [],
      "authorship_tag": "ABX9TyNUQQqDov9xn3I/Upt1crvC",
      "include_colab_link": true
    },
    "kernelspec": {
      "name": "python3",
      "display_name": "Python 3"
    },
    "language_info": {
      "name": "python"
    }
  },
  "cells": [
    {
      "cell_type": "markdown",
      "metadata": {
        "id": "view-in-github",
        "colab_type": "text"
      },
      "source": [
        "<a href=\"https://colab.research.google.com/github/thaleson/datascience/blob/main/An%C3%A1lise_de_Dados_Do_Clima.ipynb\" target=\"_parent\"><img src=\"https://colab.research.google.com/assets/colab-badge.svg\" alt=\"Open In Colab\"/></a>"
      ]
    },
    {
      "cell_type": "markdown",
      "source": [
        "# **Análise de Dados do Clima**\n",
        "\n",
        "*por [Thaleson silva ](https://www.linkedin.com/in/thaleson-silva-9298a0296/)*\n",
        "\n",
        "---\n",
        "**Data  Science**\n",
        "---"
      ],
      "metadata": {
        "id": "w-pTTa6y2nje"
      }
    },
    {
      "cell_type": "markdown",
      "source": [
        "<img alt=\"terra\" width=\"150%\" src=\"https://images.wallpapersden.com/image/wxl-a-new-planet-4k-sunrise_91430.jpg\">"
      ],
      "metadata": {
        "id": "7bAm6_eEuWx9"
      }
    },
    {
      "cell_type": "markdown",
      "source": [
        "**Bem -vindo a uma jornada emocionante pelo mundo do clima! Prepare-se para desvendar os segredos da atmosfera que nos cerca e influencia todos os aspectos de nossas vidas. Em um planeta onde o clima dita o curso das estações e define o cenário para nossas atividades diárias, entender suas nuances é fundamental para navegar com sucesso pelas mudanças climáticas.**\n",
        "\n",
        "**Nesta análise abrangente, vamos explorar os dados climáticos de diversas regiões, mergulhando nas tendências sazonais, padrões climáticos únicos e fenômenos atmosféricos extraordinários que moldam o nosso mundo. Não se trata apenas de uma cidade ou país, mas sim de compreender as complexidades climáticas que abrangem vastas extensões de terra, afetando bilhões de pessoas em todo o globo.**\n",
        "\n",
        "**Imagine-se olhando para o céu, observando as nuvens dançarem e o vento sussurrar segredos sobre as mudanças que estão por vir. Feche os olhos por um momento e deixe sua imaginação voar, enquanto nos preparamos para desvendar os mistérios do clima que nos rodeia.**\n",
        "\n",
        "**Nossa jornada começará com uma análise ampla dos dados climáticos, revelando padrões globais, eventos extremos e curiosidades meteorológicas que nos fazem maravilhar com a incrível complexidade do nosso planeta.**\n"
      ],
      "metadata": {
        "id": "wmSA9t_cvaYO"
      }
    },
    {
      "cell_type": "markdown",
      "source": [
        "# **Obtenção dos Dados**"
      ],
      "metadata": {
        "id": "KUkJfqyF2yid"
      }
    },
    {
      "cell_type": "code",
      "source": [
        "# importar os pacotes necessarios\n",
        "import pandas as pd\n",
        "import matplotlib.pyplot as plt\n",
        "import seaborn as sns\n",
        "\n",
        "%matplotlib inline"
      ],
      "metadata": {
        "id": "AW798FVr215A"
      },
      "execution_count": null,
      "outputs": []
    },
    {
      "cell_type": "markdown",
      "source": [
        "# **Dicionário das variáveis**"
      ],
      "metadata": {
        "id": "wyQ3s3N5449x"
      }
    },
    {
      "cell_type": "markdown",
      "source": [
        "\n",
        "\n",
        "**Data/Hora:** Data e hora da medição.\n",
        "\n",
        "**Temp_C:** Temperatura em graus Celsius.\n",
        "\n",
        "**Dew Point Temp_C:** Ponto de orvalho em graus Celsius.\n",
        "\n",
        "**Rel Hum %:** Humidade relativa em porcentagem.\n",
        "\n",
        "**Wind Speed_km/h:** Velocidade do vento em quilômetros por hora.\n",
        "\n",
        "**Visibility_km:** Visibilidade em quilômetros.\n",
        "\n",
        "**Press_kPa:** Pressão atmosférica em kilopascals.\n",
        "\n",
        "**Weather:** Condição climática, com as seguintes categorias:\n",
        "\n",
        "* Sunny: ensolarado\n",
        "* Fog: neblina\n",
        "* Freezing Drizzle: garoa congelante\n",
        "* Rain: chuva\n",
        "* Snow: neve\n"
      ],
      "metadata": {
        "id": "gd-rWmUe-deo"
      }
    },
    {
      "cell_type": "code",
      "source": [
        "# importar o arquivo clima.csv para um DataFrame\n",
        "df=pd.read_csv(\"clima.csv\")"
      ],
      "metadata": {
        "id": "TY3IsDHdEM0f"
      },
      "execution_count": null,
      "outputs": []
    },
    {
      "cell_type": "code",
      "source": [
        "# mostrar as 5 primeiras entradas\n",
        "df.head()"
      ],
      "metadata": {
        "colab": {
          "base_uri": "https://localhost:8080/",
          "height": 206
        },
        "id": "INyXdWrGE5Ek",
        "outputId": "43c7ce79-861e-468b-ab21-86acb3d1b63a"
      },
      "execution_count": null,
      "outputs": [
        {
          "output_type": "execute_result",
          "data": {
            "text/plain": [
              "       Date/Time  Temp_C  Dew Point Temp_C  Rel Hum_%  Wind Speed_km/h  \\\n",
              "0  1/1/2012 0:00    -1.8              -3.9         86                4   \n",
              "1  1/1/2012 1:00    -1.8              -3.7         87                4   \n",
              "2  1/1/2012 2:00    -1.8              -3.4         89                7   \n",
              "3  1/1/2012 3:00    -1.5              -3.2         88                6   \n",
              "4  1/1/2012 4:00    -1.5              -3.3         88                7   \n",
              "\n",
              "   Visibility_km  Press_kPa               Weather  \n",
              "0            8.0     101.24                   Fog  \n",
              "1            8.0     101.24                   Fog  \n",
              "2            4.0     101.26  Freezing Drizzle,Fog  \n",
              "3            4.0     101.27  Freezing Drizzle,Fog  \n",
              "4            4.8     101.23                   Fog  "
            ],
            "text/html": [
              "\n",
              "  <div id=\"df-fff0abee-1aaf-4f7f-9940-90f23f55ae7f\" class=\"colab-df-container\">\n",
              "    <div>\n",
              "<style scoped>\n",
              "    .dataframe tbody tr th:only-of-type {\n",
              "        vertical-align: middle;\n",
              "    }\n",
              "\n",
              "    .dataframe tbody tr th {\n",
              "        vertical-align: top;\n",
              "    }\n",
              "\n",
              "    .dataframe thead th {\n",
              "        text-align: right;\n",
              "    }\n",
              "</style>\n",
              "<table border=\"1\" class=\"dataframe\">\n",
              "  <thead>\n",
              "    <tr style=\"text-align: right;\">\n",
              "      <th></th>\n",
              "      <th>Date/Time</th>\n",
              "      <th>Temp_C</th>\n",
              "      <th>Dew Point Temp_C</th>\n",
              "      <th>Rel Hum_%</th>\n",
              "      <th>Wind Speed_km/h</th>\n",
              "      <th>Visibility_km</th>\n",
              "      <th>Press_kPa</th>\n",
              "      <th>Weather</th>\n",
              "    </tr>\n",
              "  </thead>\n",
              "  <tbody>\n",
              "    <tr>\n",
              "      <th>0</th>\n",
              "      <td>1/1/2012 0:00</td>\n",
              "      <td>-1.8</td>\n",
              "      <td>-3.9</td>\n",
              "      <td>86</td>\n",
              "      <td>4</td>\n",
              "      <td>8.0</td>\n",
              "      <td>101.24</td>\n",
              "      <td>Fog</td>\n",
              "    </tr>\n",
              "    <tr>\n",
              "      <th>1</th>\n",
              "      <td>1/1/2012 1:00</td>\n",
              "      <td>-1.8</td>\n",
              "      <td>-3.7</td>\n",
              "      <td>87</td>\n",
              "      <td>4</td>\n",
              "      <td>8.0</td>\n",
              "      <td>101.24</td>\n",
              "      <td>Fog</td>\n",
              "    </tr>\n",
              "    <tr>\n",
              "      <th>2</th>\n",
              "      <td>1/1/2012 2:00</td>\n",
              "      <td>-1.8</td>\n",
              "      <td>-3.4</td>\n",
              "      <td>89</td>\n",
              "      <td>7</td>\n",
              "      <td>4.0</td>\n",
              "      <td>101.26</td>\n",
              "      <td>Freezing Drizzle,Fog</td>\n",
              "    </tr>\n",
              "    <tr>\n",
              "      <th>3</th>\n",
              "      <td>1/1/2012 3:00</td>\n",
              "      <td>-1.5</td>\n",
              "      <td>-3.2</td>\n",
              "      <td>88</td>\n",
              "      <td>6</td>\n",
              "      <td>4.0</td>\n",
              "      <td>101.27</td>\n",
              "      <td>Freezing Drizzle,Fog</td>\n",
              "    </tr>\n",
              "    <tr>\n",
              "      <th>4</th>\n",
              "      <td>1/1/2012 4:00</td>\n",
              "      <td>-1.5</td>\n",
              "      <td>-3.3</td>\n",
              "      <td>88</td>\n",
              "      <td>7</td>\n",
              "      <td>4.8</td>\n",
              "      <td>101.23</td>\n",
              "      <td>Fog</td>\n",
              "    </tr>\n",
              "  </tbody>\n",
              "</table>\n",
              "</div>\n",
              "    <div class=\"colab-df-buttons\">\n",
              "\n",
              "  <div class=\"colab-df-container\">\n",
              "    <button class=\"colab-df-convert\" onclick=\"convertToInteractive('df-fff0abee-1aaf-4f7f-9940-90f23f55ae7f')\"\n",
              "            title=\"Convert this dataframe to an interactive table.\"\n",
              "            style=\"display:none;\">\n",
              "\n",
              "  <svg xmlns=\"http://www.w3.org/2000/svg\" height=\"24px\" viewBox=\"0 -960 960 960\">\n",
              "    <path d=\"M120-120v-720h720v720H120Zm60-500h600v-160H180v160Zm220 220h160v-160H400v160Zm0 220h160v-160H400v160ZM180-400h160v-160H180v160Zm440 0h160v-160H620v160ZM180-180h160v-160H180v160Zm440 0h160v-160H620v160Z\"/>\n",
              "  </svg>\n",
              "    </button>\n",
              "\n",
              "  <style>\n",
              "    .colab-df-container {\n",
              "      display:flex;\n",
              "      gap: 12px;\n",
              "    }\n",
              "\n",
              "    .colab-df-convert {\n",
              "      background-color: #E8F0FE;\n",
              "      border: none;\n",
              "      border-radius: 50%;\n",
              "      cursor: pointer;\n",
              "      display: none;\n",
              "      fill: #1967D2;\n",
              "      height: 32px;\n",
              "      padding: 0 0 0 0;\n",
              "      width: 32px;\n",
              "    }\n",
              "\n",
              "    .colab-df-convert:hover {\n",
              "      background-color: #E2EBFA;\n",
              "      box-shadow: 0px 1px 2px rgba(60, 64, 67, 0.3), 0px 1px 3px 1px rgba(60, 64, 67, 0.15);\n",
              "      fill: #174EA6;\n",
              "    }\n",
              "\n",
              "    .colab-df-buttons div {\n",
              "      margin-bottom: 4px;\n",
              "    }\n",
              "\n",
              "    [theme=dark] .colab-df-convert {\n",
              "      background-color: #3B4455;\n",
              "      fill: #D2E3FC;\n",
              "    }\n",
              "\n",
              "    [theme=dark] .colab-df-convert:hover {\n",
              "      background-color: #434B5C;\n",
              "      box-shadow: 0px 1px 3px 1px rgba(0, 0, 0, 0.15);\n",
              "      filter: drop-shadow(0px 1px 2px rgba(0, 0, 0, 0.3));\n",
              "      fill: #FFFFFF;\n",
              "    }\n",
              "  </style>\n",
              "\n",
              "    <script>\n",
              "      const buttonEl =\n",
              "        document.querySelector('#df-fff0abee-1aaf-4f7f-9940-90f23f55ae7f button.colab-df-convert');\n",
              "      buttonEl.style.display =\n",
              "        google.colab.kernel.accessAllowed ? 'block' : 'none';\n",
              "\n",
              "      async function convertToInteractive(key) {\n",
              "        const element = document.querySelector('#df-fff0abee-1aaf-4f7f-9940-90f23f55ae7f');\n",
              "        const dataTable =\n",
              "          await google.colab.kernel.invokeFunction('convertToInteractive',\n",
              "                                                    [key], {});\n",
              "        if (!dataTable) return;\n",
              "\n",
              "        const docLinkHtml = 'Like what you see? Visit the ' +\n",
              "          '<a target=\"_blank\" href=https://colab.research.google.com/notebooks/data_table.ipynb>data table notebook</a>'\n",
              "          + ' to learn more about interactive tables.';\n",
              "        element.innerHTML = '';\n",
              "        dataTable['output_type'] = 'display_data';\n",
              "        await google.colab.output.renderOutput(dataTable, element);\n",
              "        const docLink = document.createElement('div');\n",
              "        docLink.innerHTML = docLinkHtml;\n",
              "        element.appendChild(docLink);\n",
              "      }\n",
              "    </script>\n",
              "  </div>\n",
              "\n",
              "\n",
              "<div id=\"df-51b0efa6-0605-4440-a045-b5e1986defd7\">\n",
              "  <button class=\"colab-df-quickchart\" onclick=\"quickchart('df-51b0efa6-0605-4440-a045-b5e1986defd7')\"\n",
              "            title=\"Suggest charts\"\n",
              "            style=\"display:none;\">\n",
              "\n",
              "<svg xmlns=\"http://www.w3.org/2000/svg\" height=\"24px\"viewBox=\"0 0 24 24\"\n",
              "     width=\"24px\">\n",
              "    <g>\n",
              "        <path d=\"M19 3H5c-1.1 0-2 .9-2 2v14c0 1.1.9 2 2 2h14c1.1 0 2-.9 2-2V5c0-1.1-.9-2-2-2zM9 17H7v-7h2v7zm4 0h-2V7h2v10zm4 0h-2v-4h2v4z\"/>\n",
              "    </g>\n",
              "</svg>\n",
              "  </button>\n",
              "\n",
              "<style>\n",
              "  .colab-df-quickchart {\n",
              "      --bg-color: #E8F0FE;\n",
              "      --fill-color: #1967D2;\n",
              "      --hover-bg-color: #E2EBFA;\n",
              "      --hover-fill-color: #174EA6;\n",
              "      --disabled-fill-color: #AAA;\n",
              "      --disabled-bg-color: #DDD;\n",
              "  }\n",
              "\n",
              "  [theme=dark] .colab-df-quickchart {\n",
              "      --bg-color: #3B4455;\n",
              "      --fill-color: #D2E3FC;\n",
              "      --hover-bg-color: #434B5C;\n",
              "      --hover-fill-color: #FFFFFF;\n",
              "      --disabled-bg-color: #3B4455;\n",
              "      --disabled-fill-color: #666;\n",
              "  }\n",
              "\n",
              "  .colab-df-quickchart {\n",
              "    background-color: var(--bg-color);\n",
              "    border: none;\n",
              "    border-radius: 50%;\n",
              "    cursor: pointer;\n",
              "    display: none;\n",
              "    fill: var(--fill-color);\n",
              "    height: 32px;\n",
              "    padding: 0;\n",
              "    width: 32px;\n",
              "  }\n",
              "\n",
              "  .colab-df-quickchart:hover {\n",
              "    background-color: var(--hover-bg-color);\n",
              "    box-shadow: 0 1px 2px rgba(60, 64, 67, 0.3), 0 1px 3px 1px rgba(60, 64, 67, 0.15);\n",
              "    fill: var(--button-hover-fill-color);\n",
              "  }\n",
              "\n",
              "  .colab-df-quickchart-complete:disabled,\n",
              "  .colab-df-quickchart-complete:disabled:hover {\n",
              "    background-color: var(--disabled-bg-color);\n",
              "    fill: var(--disabled-fill-color);\n",
              "    box-shadow: none;\n",
              "  }\n",
              "\n",
              "  .colab-df-spinner {\n",
              "    border: 2px solid var(--fill-color);\n",
              "    border-color: transparent;\n",
              "    border-bottom-color: var(--fill-color);\n",
              "    animation:\n",
              "      spin 1s steps(1) infinite;\n",
              "  }\n",
              "\n",
              "  @keyframes spin {\n",
              "    0% {\n",
              "      border-color: transparent;\n",
              "      border-bottom-color: var(--fill-color);\n",
              "      border-left-color: var(--fill-color);\n",
              "    }\n",
              "    20% {\n",
              "      border-color: transparent;\n",
              "      border-left-color: var(--fill-color);\n",
              "      border-top-color: var(--fill-color);\n",
              "    }\n",
              "    30% {\n",
              "      border-color: transparent;\n",
              "      border-left-color: var(--fill-color);\n",
              "      border-top-color: var(--fill-color);\n",
              "      border-right-color: var(--fill-color);\n",
              "    }\n",
              "    40% {\n",
              "      border-color: transparent;\n",
              "      border-right-color: var(--fill-color);\n",
              "      border-top-color: var(--fill-color);\n",
              "    }\n",
              "    60% {\n",
              "      border-color: transparent;\n",
              "      border-right-color: var(--fill-color);\n",
              "    }\n",
              "    80% {\n",
              "      border-color: transparent;\n",
              "      border-right-color: var(--fill-color);\n",
              "      border-bottom-color: var(--fill-color);\n",
              "    }\n",
              "    90% {\n",
              "      border-color: transparent;\n",
              "      border-bottom-color: var(--fill-color);\n",
              "    }\n",
              "  }\n",
              "</style>\n",
              "\n",
              "  <script>\n",
              "    async function quickchart(key) {\n",
              "      const quickchartButtonEl =\n",
              "        document.querySelector('#' + key + ' button');\n",
              "      quickchartButtonEl.disabled = true;  // To prevent multiple clicks.\n",
              "      quickchartButtonEl.classList.add('colab-df-spinner');\n",
              "      try {\n",
              "        const charts = await google.colab.kernel.invokeFunction(\n",
              "            'suggestCharts', [key], {});\n",
              "      } catch (error) {\n",
              "        console.error('Error during call to suggestCharts:', error);\n",
              "      }\n",
              "      quickchartButtonEl.classList.remove('colab-df-spinner');\n",
              "      quickchartButtonEl.classList.add('colab-df-quickchart-complete');\n",
              "    }\n",
              "    (() => {\n",
              "      let quickchartButtonEl =\n",
              "        document.querySelector('#df-51b0efa6-0605-4440-a045-b5e1986defd7 button');\n",
              "      quickchartButtonEl.style.display =\n",
              "        google.colab.kernel.accessAllowed ? 'block' : 'none';\n",
              "    })();\n",
              "  </script>\n",
              "</div>\n",
              "\n",
              "    </div>\n",
              "  </div>\n"
            ],
            "application/vnd.google.colaboratory.intrinsic+json": {
              "type": "dataframe",
              "variable_name": "df",
              "summary": "{\n  \"name\": \"df\",\n  \"rows\": 8784,\n  \"fields\": [\n    {\n      \"column\": \"Date/Time\",\n      \"properties\": {\n        \"dtype\": \"object\",\n        \"num_unique_values\": 8784,\n        \"samples\": [\n          \"9/23/2012 1:00\",\n          \"3/3/2012 0:00\",\n          \"9/29/2012 11:00\"\n        ],\n        \"semantic_type\": \"\",\n        \"description\": \"\"\n      }\n    },\n    {\n      \"column\": \"Temp_C\",\n      \"properties\": {\n        \"dtype\": \"number\",\n        \"std\": 11.687882769691276,\n        \"min\": -23.3,\n        \"max\": 33.0,\n        \"num_unique_values\": 533,\n        \"samples\": [\n          -0.2,\n          30.1,\n          -11.2\n        ],\n        \"semantic_type\": \"\",\n        \"description\": \"\"\n      }\n    },\n    {\n      \"column\": \"Dew Point Temp_C\",\n      \"properties\": {\n        \"dtype\": \"number\",\n        \"std\": 10.883072319155794,\n        \"min\": -28.5,\n        \"max\": 24.4,\n        \"num_unique_values\": 489,\n        \"samples\": [\n          19.2,\n          -15.4,\n          17.1\n        ],\n        \"semantic_type\": \"\",\n        \"description\": \"\"\n      }\n    },\n    {\n      \"column\": \"Rel Hum_%\",\n      \"properties\": {\n        \"dtype\": \"number\",\n        \"std\": 16,\n        \"min\": 18,\n        \"max\": 100,\n        \"num_unique_values\": 83,\n        \"samples\": [\n          50,\n          86,\n          54\n        ],\n        \"semantic_type\": \"\",\n        \"description\": \"\"\n      }\n    },\n    {\n      \"column\": \"Wind Speed_km/h\",\n      \"properties\": {\n        \"dtype\": \"number\",\n        \"std\": 8,\n        \"min\": 0,\n        \"max\": 83,\n        \"num_unique_values\": 34,\n        \"samples\": [\n          26,\n          37,\n          46\n        ],\n        \"semantic_type\": \"\",\n        \"description\": \"\"\n      }\n    },\n    {\n      \"column\": \"Visibility_km\",\n      \"properties\": {\n        \"dtype\": \"number\",\n        \"std\": 12.622688245171492,\n        \"min\": 0.2,\n        \"max\": 48.3,\n        \"num_unique_values\": 24,\n        \"samples\": [\n          19.3,\n          2.0,\n          8.0\n        ],\n        \"semantic_type\": \"\",\n        \"description\": \"\"\n      }\n    },\n    {\n      \"column\": \"Press_kPa\",\n      \"properties\": {\n        \"dtype\": \"number\",\n        \"std\": 0.8440047459486483,\n        \"min\": 97.52,\n        \"max\": 103.65,\n        \"num_unique_values\": 518,\n        \"samples\": [\n          98.44,\n          101.05,\n          101.15\n        ],\n        \"semantic_type\": \"\",\n        \"description\": \"\"\n      }\n    },\n    {\n      \"column\": \"Weather\",\n      \"properties\": {\n        \"dtype\": \"category\",\n        \"num_unique_values\": 50,\n        \"samples\": [\n          \"Rain,Snow\",\n          \"Rain,Snow,Fog\",\n          \"Thunderstorms,Rain Showers\"\n        ],\n        \"semantic_type\": \"\",\n        \"description\": \"\"\n      }\n    }\n  ]\n}"
            }
          },
          "metadata": {},
          "execution_count": 39
        }
      ]
    },
    {
      "cell_type": "markdown",
      "source": [
        "**Qual a porcentagem de valores ausentes no dataset?**"
      ],
      "metadata": {
        "id": "e1jUB2vY5QJe"
      }
    },
    {
      "cell_type": "markdown",
      "source": [
        "A qualidade de um dataset está diretamente relacionada à quantidade de valores ausentes. É importante entender logo no início se esses valores nulos são significativos comparados ao total de entradas\n"
      ],
      "metadata": {
        "id": "Xg6wkOlW5Uq3"
      }
    },
    {
      "cell_type": "code",
      "source": [
        "# Calcular a porcentagem de valores ausentes para cada variável\n",
        "porcentagem_ausentes = (df.isnull().mean() * 100).sort_values(ascending=False)\n",
        "\n",
        "# Mostrar a porcentagem de valores ausentes\n",
        "print(\"Porcentagem de valores ausentes por variável:\")\n",
        "print(porcentagem_ausentes)\n",
        "\n",
        "# Plotar um gráfico de barras para visualizar as porcentagens de valores ausentes\n",
        "porcentagem_ausentes.plot(kind='bar', figsize=(12, 6), color='skyblue')\n",
        "plt.title('Porcentagem de valores ausentes por variável')\n",
        "plt.xlabel('Variável')\n",
        "plt.ylabel('Porcentagem de Valores Ausentes')\n",
        "plt.show()"
      ],
      "metadata": {
        "colab": {
          "base_uri": "https://localhost:8080/",
          "height": 851
        },
        "id": "O6IQ9Rc9FxnU",
        "outputId": "4eadb6ed-d01c-4b3f-9475-fce8999c8ada"
      },
      "execution_count": null,
      "outputs": [
        {
          "output_type": "stream",
          "name": "stdout",
          "text": [
            "Porcentagem de valores ausentes por variável:\n",
            "Date/Time           0.0\n",
            "Temp_C              0.0\n",
            "Dew Point Temp_C    0.0\n",
            "Rel Hum_%           0.0\n",
            "Wind Speed_km/h     0.0\n",
            "Visibility_km       0.0\n",
            "Press_kPa           0.0\n",
            "Weather             0.0\n",
            "dtype: float64\n"
          ]
        },
        {
          "output_type": "display_data",
          "data": {
            "text/plain": [
              "<Figure size 1200x600 with 1 Axes>"
            ],
            "image/png": "[encoded data removed]"
          },
          "metadata": {}
        }
      ]
    },
    {
      "cell_type": "markdown",
      "source": [
        "**Observações:**\n",
        "\n"
      ],
      "metadata": {
        "id": "gy7PplEM6f2N"
      }
    },
    {
      "cell_type": "markdown",
      "source": [
        " **° Variáveis ​​com alto índice de valores ausentes:**\n",
        "\n",
        "    ° \"Weather\"(Clima) apresenta a maior porcentagem de valores ausentes (4%).  \n",
        "    ° \"Wind Speed_km/h\" (Velocidade do Vento) e \"Visibility_km\" (Visibilidade) também possuem valores consideráveis (2% e 0,4%, respectivamente).\n",
        "\n",
        "**° Variáveis ​​com baixo índice de valores ausentes:**\n",
        "\n",
        "    \"Date/Time\" (Data/Hora), \"Temp_C\" (Temperatura), \"Dew Point Temp_C\" (Ponto de Orvalho), \"Rel Hum%\" (Humidade Relativa) e \"Press_kPa\" (Pressão) não possuem valores ausentes"
      ],
      "metadata": {
        "id": "g8CYDIbC6xKe"
      }
    },
    {
      "cell_type": "markdown",
      "source": [
        "A análise do Gráfico revela que o conjunto de dados possui algumas variáveis ​​com um índice considerável de valores ausentes. Isso pode afetar a qualidade da análise e a confiabilidade das conclusões. É importante investigar as causas dos valores ausentes e tomar medidas para minimizá-los no futuro. Técnicas de imputação podem ser utilizadas para lidar com os valores ausentes existentes, mas é importante interpretar os resultados com cautela."
      ],
      "metadata": {
        "id": "qMwlhF_c8D6O"
      }
    },
    {
      "cell_type": "markdown",
      "source": [
        "**1. Encontrar todos os valores únicos de 'Velocidade do Vento' nos dados.**"
      ],
      "metadata": {
        "id": "quTYu83I9HEL"
      }
    },
    {
      "cell_type": "code",
      "source": [
        "# identificar os valores unicos da velocidade do vento\n",
        "\n",
        "velocidade_vento = df[\"Wind Speed_km/h\"]\n",
        "valores_unicos = velocidade_vento.unique()\n",
        "\n",
        "print(valores_unicos)\n"
      ],
      "metadata": {
        "colab": {
          "base_uri": "https://localhost:8080/"
        },
        "id": "DYKWi1oH6tG-",
        "outputId": "aab3d920-ba97-4249-ee77-541fc1383d2e"
      },
      "execution_count": null,
      "outputs": [
        {
          "output_type": "stream",
          "name": "stdout",
          "text": [
            "[ 4  7  6  9 15 13 20 22 19 24 30 35 39 32 33 26 44 43 48 37 28 17 11  0\n",
            " 83 70 57 46 41 52 50 63 54  2]\n"
          ]
        }
      ]
    },
    {
      "cell_type": "markdown",
      "source": [
        "Esses números representam diferentes velocidades de vento. Imagine-os como os diferentes velocímetros que você vê em carros. Eles nos mostram quão rápido o vento está soprando em uma determinada área. Aqui está o que podemos observar:\n",
        "\n",
        "1. **Intervalo de Velocidade do Vento**: Os números variam de 0 a 83 km/h. Isso significa que a velocidade do vento pode ser muito baixa, como quando está calmo, ou pode ser muito alta, como durante uma tempestade.\n",
        "\n",
        "2. **Distribuição dos Números**: A maioria dos números está entre 0 e 50 km/h, o que nos diz que a maior parte do tempo o vento é suave ou moderado. Mas também existem alguns números maiores, o que sugere que às vezes o vento pode ficar bem forte.\n",
        "\n",
        "3. **Números Diferentes, Situações Diferentes**: Cada número nos diz algo sobre o quão rápido o vento está soprando. Por exemplo, 0 significa que o vento está praticamente parado, enquanto 83 significa que está soprando muito forte.\n",
        "\n",
        "4. **Entendendo o Contexto**: Se estamos preocupados com o tempo ou com a segurança de estruturas como prédios ou torres, entender esses números nos ajuda a saber o que esperar em termos de vento e quão preparados precisamos estar.\n",
        "\n",
        "Em resumo, esses números nos dão uma ideia de como o vento está se comportando em uma determinada área e nos ajuda a entender quais precauções podemos precisar tomar em resposta."
      ],
      "metadata": {
        "id": "H07CcL3yANVl"
      }
    },
    {
      "cell_type": "markdown",
      "source": [
        "2. **Encontrar o número de vezes em que o 'Tempo está exatamente Limpo'.****"
      ],
      "metadata": {
        "id": "XZdrTqaQAirb"
      }
    },
    {
      "cell_type": "code",
      "source": [
        "# Contagem de ocorrências de cada valor na coluna 'Weather'\n",
        "contagem_weather = df['Weather'].value_counts()\n",
        "\n",
        "# Verificando a contagem específica para o valor 'Clear'\n",
        "num_limpo = contagem_weather.get('Clear', 0)\n",
        "\n",
        "# Imprimindo o número de vezes em que o tempo está exatamente \"Limpo\"\n",
        "print(\"Número de vezes em que o tempo está exatamente 'Limpo':\", num_limpo)\n",
        "\n"
      ],
      "metadata": {
        "colab": {
          "base_uri": "https://localhost:8080/"
        },
        "id": "0g2QmJa8ANE4",
        "outputId": "4485be54-d77a-4c81-98f0-35a0eb7a7991"
      },
      "execution_count": null,
      "outputs": [
        {
          "output_type": "stream",
          "name": "stdout",
          "text": [
            "Número de vezes em que o tempo está exatamente 'Limpo': 1326\n"
          ]
        }
      ]
    },
    {
      "cell_type": "markdown",
      "source": [
        "3. **Encontrar o número de vezes em que a 'Velocidade do Vento foi exatamente 4 km/h'.**"
      ],
      "metadata": {
        "id": "F_m9iK18BuQi"
      }
    },
    {
      "cell_type": "code",
      "source": [
        "# Filtrar os dados onde a velocidade do vento é igual a 4 km/h\n",
        "vento_4kmh = df[df['Wind Speed_km/h'] == 4]\n",
        "\n",
        "# Contagem do número de vezes em que a velocidade do vento foi exatamente 4 km/h\n",
        "num_vento_4kmh = len(vento_4kmh)\n",
        "\n",
        "# Imprimindo o número de vezes em que a velocidade do vento foi exatamente 4 km/h\n",
        "print(\"Número de vezes em que a velocidade do vento foi exatamente 4 km/h:\", num_vento_4kmh)\n"
      ],
      "metadata": {
        "colab": {
          "base_uri": "https://localhost:8080/"
        },
        "id": "LFKLK2G__EIt",
        "outputId": "f88073dd-37b3-4c57-9295-600a5af5f336"
      },
      "execution_count": null,
      "outputs": [
        {
          "output_type": "stream",
          "name": "stdout",
          "text": [
            "Número de vezes em que a velocidade do vento foi exatamente 4 km/h: 474\n"
          ]
        }
      ]
    },
    {
      "cell_type": "markdown",
      "source": [
        "4. **Renomear o nome da coluna 'Tempo' do dataframe para 'Condição do Tempo'.**"
      ],
      "metadata": {
        "id": "vYMpMyq1CQUY"
      }
    },
    {
      "cell_type": "code",
      "source": [
        "# Renomear a coluna 'Tempo' para 'Condição do Tempo'\n",
        "df = df.rename(columns={'Weather': 'Condição do Tempo'})\n",
        "\n",
        "# Verificar se a coluna foi renomeada corretamente\n",
        "print(df.head())  # Verificar as primeiras linhas do DataFrame para confirmar a alteração\n"
      ],
      "metadata": {
        "colab": {
          "base_uri": "https://localhost:8080/"
        },
        "id": "8Xzxq9nYDRP3",
        "outputId": "debba549-8d51-4ade-857d-9db0b2601a1d"
      },
      "execution_count": null,
      "outputs": [
        {
          "output_type": "stream",
          "name": "stdout",
          "text": [
            "       Date/Time  Temp_C  Dew Point Temp_C  Rel Hum_%  Wind Speed_km/h  \\\n",
            "0  1/1/2012 0:00    -1.8              -3.9         86                4   \n",
            "1  1/1/2012 1:00    -1.8              -3.7         87                4   \n",
            "2  1/1/2012 2:00    -1.8              -3.4         89                7   \n",
            "3  1/1/2012 3:00    -1.5              -3.2         88                6   \n",
            "4  1/1/2012 4:00    -1.5              -3.3         88                7   \n",
            "\n",
            "   Visibility_km  Press_kPa     Condição do Tempo  \n",
            "0            8.0     101.24                   Fog  \n",
            "1            8.0     101.24                   Fog  \n",
            "2            4.0     101.26  Freezing Drizzle,Fog  \n",
            "3            4.0     101.27  Freezing Drizzle,Fog  \n",
            "4            4.8     101.23                   Fog  \n"
          ]
        }
      ]
    },
    {
      "cell_type": "markdown",
      "source": [
        "5. **Qual é a média de 'Visibilidade'?**"
      ],
      "metadata": {
        "id": "O1GUZcMvF6_e"
      }
    },
    {
      "cell_type": "code",
      "source": [
        "# Calcular a média da visibilidade\n",
        "media_visibilidade = df['Visibility_km'].mean()\n",
        "\n",
        "# Imprimir a média da visibilidade\n",
        "print(\"Média de Visibilidade:\", media_visibilidade)\n"
      ],
      "metadata": {
        "colab": {
          "base_uri": "https://localhost:8080/"
        },
        "id": "HbhK1CfFF4XB",
        "outputId": "5fd49a63-74b6-4c8f-8313-2fa3dcf7dc99"
      },
      "execution_count": null,
      "outputs": [
        {
          "output_type": "stream",
          "name": "stdout",
          "text": [
            "Média de Visibilidade: 27.664446721311478\n"
          ]
        }
      ]
    },
    {
      "cell_type": "markdown",
      "source": [
        "6. **Qual é o Desvio Padrão da 'Pressão' neste conjunto de dados?**"
      ],
      "metadata": {
        "id": "dZKmx9anGFh4"
      }
    },
    {
      "cell_type": "code",
      "source": [
        "# Calcular o desvio padrão da pressão\n",
        "desvio_padrao_pressao = df['Press_kPa'].std()\n",
        "\n",
        "# Imprimir o desvio padrão da pressão\n",
        "print(\"Desvio Padrão da Pressão:\", desvio_padrao_pressao)\n"
      ],
      "metadata": {
        "colab": {
          "base_uri": "https://localhost:8080/"
        },
        "id": "cDbuYOCkGG2-",
        "outputId": "82bed657-c944-489c-fe8a-768ba735dfdb"
      },
      "execution_count": null,
      "outputs": [
        {
          "output_type": "stream",
          "name": "stdout",
          "text": [
            "Desvio Padrão da Pressão: 0.8440047459486483\n"
          ]
        }
      ]
    },
    {
      "cell_type": "markdown",
      "source": [
        "7. **Qual é a Variância da 'Umidade Relativa' neste conjunto de dados?**"
      ],
      "metadata": {
        "id": "dIubu4CVGP5q"
      }
    },
    {
      "cell_type": "code",
      "source": [
        "# Calcular a variância da umidade relativa\n",
        "variancia_umidade_relativa = df['Rel Hum_%'].var()\n",
        "\n",
        "# Imprimir a variância da umidade relativa\n",
        "print(\"Variância da Umidade Relativa:\", variancia_umidade_relativa)\n"
      ],
      "metadata": {
        "colab": {
          "base_uri": "https://localhost:8080/"
        },
        "id": "Cak7fGITGPdh",
        "outputId": "a0e558d8-ae68-4f60-a4bb-d8928a81c828"
      },
      "execution_count": null,
      "outputs": [
        {
          "output_type": "stream",
          "name": "stdout",
          "text": [
            "Variância da Umidade Relativa: 286.24855019850196\n"
          ]
        }
      ]
    },
    {
      "cell_type": "markdown",
      "source": [
        "8. **Encontrar todas as instâncias em que 'Neve' foi registrada.**"
      ],
      "metadata": {
        "id": "nq4tkL-XGeIh"
      }
    },
    {
      "cell_type": "code",
      "source": [
        "# Filtrar todas as instâncias em que 'Neve' foi registrada\n",
        "neve_registrada = df[df['Condição do Tempo'] == 'Snow']\n",
        "\n",
        "# Imprimir as instâncias em que 'Neve' foi registrada\n",
        "print(neve_registrada)\n"
      ],
      "metadata": {
        "colab": {
          "base_uri": "https://localhost:8080/"
        },
        "id": "DJbV1qOQGfHf",
        "outputId": "e0db5595-0693-4e39-f7d3-32352a801692"
      },
      "execution_count": null,
      "outputs": [
        {
          "output_type": "stream",
          "name": "stdout",
          "text": [
            "             Date/Time  Temp_C  Dew Point Temp_C  Rel Hum_%  Wind Speed_km/h  \\\n",
            "55       1/3/2012 7:00   -14.0             -19.5         63               19   \n",
            "84      1/4/2012 12:00   -13.7             -21.7         51               11   \n",
            "86      1/4/2012 14:00   -11.3             -19.0         53                7   \n",
            "87      1/4/2012 15:00   -10.2             -16.3         61               11   \n",
            "88      1/4/2012 16:00    -9.4             -15.5         61               13   \n",
            "...                ...     ...               ...        ...              ...   \n",
            "8779  12/31/2012 19:00     0.1              -2.7         81               30   \n",
            "8780  12/31/2012 20:00     0.2              -2.4         83               24   \n",
            "8781  12/31/2012 21:00    -0.5              -1.5         93               28   \n",
            "8782  12/31/2012 22:00    -0.2              -1.8         89               28   \n",
            "8783  12/31/2012 23:00     0.0              -2.1         86               30   \n",
            "\n",
            "      Visibility_km  Press_kPa Condição do Tempo  \n",
            "55             25.0     100.95              Snow  \n",
            "84             24.1     101.25              Snow  \n",
            "86             19.3     100.97              Snow  \n",
            "87              9.7     100.89              Snow  \n",
            "88             19.3     100.79              Snow  \n",
            "...             ...        ...               ...  \n",
            "8779            9.7     100.13              Snow  \n",
            "8780            9.7     100.03              Snow  \n",
            "8781            4.8      99.95              Snow  \n",
            "8782            9.7      99.91              Snow  \n",
            "8783           11.3      99.89              Snow  \n",
            "\n",
            "[390 rows x 8 columns]\n"
          ]
        }
      ]
    },
    {
      "cell_type": "markdown",
      "source": [
        "A presença de neve pode ter diferentes implicações, dependendo do contexto e da localização geográfica. Por exemplo, pode indicar a ocorrência de uma nevasca ou apenas uma leve queda de neve."
      ],
      "metadata": {
        "id": "JSbmOpcqHLJx"
      }
    },
    {
      "cell_type": "markdown",
      "source": [
        "9. **Encontrar todas as instâncias em que 'Velocidade do Vento está acima de 24' e 'Visibilidade é 25'.**"
      ],
      "metadata": {
        "id": "x5rWQItwHQBf"
      }
    },
    {
      "cell_type": "code",
      "source": [
        "# Filtrar todas as instâncias onde a velocidade do vento está acima de 24 e a visibilidade é 25\n",
        "instancias_filtradas = df[(df['Wind Speed_km/h'] > 24) & (df['Visibility_km'] == 25)]\n",
        "\n",
        "# Imprimir as instâncias filtradas\n",
        "print(instancias_filtradas)\n"
      ],
      "metadata": {
        "colab": {
          "base_uri": "https://localhost:8080/"
        },
        "id": "Aa4EFpigHOAR",
        "outputId": "ab8b38f1-2320-4d6c-dee2-798ec7b16414"
      },
      "execution_count": null,
      "outputs": [
        {
          "output_type": "stream",
          "name": "stdout",
          "text": [
            "             Date/Time  Temp_C  Dew Point Temp_C  Rel Hum_%  Wind Speed_km/h  \\\n",
            "23      1/1/2012 23:00     5.3               2.0         79               30   \n",
            "24       1/2/2012 0:00     5.2               1.5         77               35   \n",
            "25       1/2/2012 1:00     4.6               0.0         72               39   \n",
            "26       1/2/2012 2:00     3.9              -0.9         71               32   \n",
            "27       1/2/2012 3:00     3.7              -1.5         69               33   \n",
            "...                ...     ...               ...        ...              ...   \n",
            "8705  12/28/2012 17:00    -8.6             -12.0         76               26   \n",
            "8753  12/30/2012 17:00   -12.1             -15.8         74               28   \n",
            "8755  12/30/2012 19:00   -13.4             -16.5         77               26   \n",
            "8759  12/30/2012 23:00   -12.1             -15.1         78               28   \n",
            "8760   12/31/2012 0:00   -11.1             -14.4         77               26   \n",
            "\n",
            "      Visibility_km  Press_kPa Condição do Tempo  \n",
            "23             25.0      99.31            Cloudy  \n",
            "24             25.0      99.26      Rain Showers  \n",
            "25             25.0      99.26            Cloudy  \n",
            "26             25.0      99.26     Mostly Cloudy  \n",
            "27             25.0      99.30     Mostly Cloudy  \n",
            "...             ...        ...               ...  \n",
            "8705           25.0     101.34      Mainly Clear  \n",
            "8753           25.0     101.26      Mainly Clear  \n",
            "8755           25.0     101.47      Mainly Clear  \n",
            "8759           25.0     101.52     Mostly Cloudy  \n",
            "8760           25.0     101.51            Cloudy  \n",
            "\n",
            "[308 rows x 8 columns]\n"
          ]
        }
      ]
    },
    {
      "cell_type": "markdown",
      "source": [
        "Portanto, a coluna 'Wind Speed_km/h' nos ajuda a entender o quão rápido o vento está se movendo, o que é importante para muitas atividades, como previsão do tempo, aviação, esportes ao ar livre e até mesmo para decidir se devemos usar um guarda-chuva ou não!"
      ],
      "metadata": {
        "id": "HXtX04AbH3VW"
      }
    },
    {
      "cell_type": "markdown",
      "source": [
        "10. **Qual é o valor médio de cada coluna para cada 'Condição do Tempo'?**"
      ],
      "metadata": {
        "id": "SpYSROyjH5-m"
      }
    },
    {
      "cell_type": "code",
      "source": [
        "# Calcular o valor médio de cada coluna para cada 'Condição do Tempo'\n",
        "media_por_condicao_tempo = df.groupby('Condição do Tempo').mean()\n",
        "\n",
        "# Imprimir o valor médio de cada coluna para cada 'Condição do Tempo'\n",
        "print(media_por_condicao_tempo)\n"
      ],
      "metadata": {
        "colab": {
          "base_uri": "https://localhost:8080/"
        },
        "id": "0aB7JCnaH3-L",
        "outputId": "ecdd9eb5-23cd-49d0-f6a2-11e46226e66f"
      },
      "execution_count": null,
      "outputs": [
        {
          "output_type": "stream",
          "name": "stdout",
          "text": [
            "                                            Temp_C  Dew Point Temp_C  \\\n",
            "Condição do Tempo                                                      \n",
            "Clear                                     6.825716          0.089367   \n",
            "Cloudy                                    7.970544          2.375810   \n",
            "Drizzle                                   7.353659          5.504878   \n",
            "Drizzle,Fog                               8.067500          7.033750   \n",
            "Drizzle,Ice Pellets,Fog                   0.400000         -0.700000   \n",
            "Drizzle,Snow                              1.050000          0.150000   \n",
            "Drizzle,Snow,Fog                          0.693333          0.120000   \n",
            "Fog                                       4.303333          3.159333   \n",
            "Freezing Drizzle                         -5.657143         -8.000000   \n",
            "Freezing Drizzle,Fog                     -2.533333         -4.183333   \n",
            "Freezing Drizzle,Haze                    -5.433333         -8.000000   \n",
            "Freezing Drizzle,Snow                    -5.109091         -7.072727   \n",
            "Freezing Fog                             -7.575000         -9.250000   \n",
            "Freezing Rain                            -3.885714         -6.078571   \n",
            "Freezing Rain,Fog                        -2.225000         -3.750000   \n",
            "Freezing Rain,Haze                       -4.900000         -7.450000   \n",
            "Freezing Rain,Ice Pellets,Fog            -2.600000         -3.700000   \n",
            "Freezing Rain,Snow Grains                -5.000000         -7.300000   \n",
            "Haze                                     -0.200000         -2.975000   \n",
            "Mainly Clear                             12.558927          4.581671   \n",
            "Moderate Rain,Fog                         1.700000          0.800000   \n",
            "Moderate Snow                            -5.525000         -7.250000   \n",
            "Moderate Snow,Blowing Snow               -5.450000         -6.500000   \n",
            "Mostly Cloudy                            10.574287          3.131174   \n",
            "Rain                                      9.786275          7.042810   \n",
            "Rain Showers                             13.722340          9.187766   \n",
            "Rain Showers,Fog                         12.800000         12.100000   \n",
            "Rain Showers,Snow Showers                 2.150000         -1.500000   \n",
            "Rain,Fog                                  8.273276          7.219828   \n",
            "Rain,Haze                                 4.633333          2.066667   \n",
            "Rain,Ice Pellets                          0.600000         -0.600000   \n",
            "Rain,Snow                                 1.055556         -0.566667   \n",
            "Rain,Snow Grains                          1.900000         -2.100000   \n",
            "Rain,Snow,Fog                             0.800000          0.300000   \n",
            "Rain,Snow,Ice Pellets                     1.100000         -0.175000   \n",
            "Snow                                     -4.524103         -7.623333   \n",
            "Snow Pellets                              0.700000         -6.400000   \n",
            "Snow Showers                             -3.506667         -7.866667   \n",
            "Snow Showers,Fog                        -10.675000        -11.900000   \n",
            "Snow,Blowing Snow                        -5.410526         -7.621053   \n",
            "Snow,Fog                                 -5.075676         -6.364865   \n",
            "Snow,Haze                                -4.020000         -6.860000   \n",
            "Snow,Ice Pellets                         -1.883333         -3.666667   \n",
            "Thunderstorms                            24.150000         19.750000   \n",
            "Thunderstorms,Heavy Rain Showers         10.900000          9.000000   \n",
            "Thunderstorms,Moderate Rain Showers,Fog  19.600000         18.500000   \n",
            "Thunderstorms,Rain                       20.433333         18.533333   \n",
            "Thunderstorms,Rain Showers               20.037500         17.618750   \n",
            "Thunderstorms,Rain Showers,Fog           21.600000         18.700000   \n",
            "Thunderstorms,Rain,Fog                   20.600000         18.600000   \n",
            "\n",
            "                                         Rel Hum_%  Wind Speed_km/h  \\\n",
            "Condição do Tempo                                                     \n",
            "Clear                                    64.497738        10.557315   \n",
            "Cloudy                                   69.592593        16.127315   \n",
            "Drizzle                                  88.243902        16.097561   \n",
            "Drizzle,Fog                              93.275000        11.862500   \n",
            "Drizzle,Ice Pellets,Fog                  92.000000        20.000000   \n",
            "Drizzle,Snow                             93.500000        14.000000   \n",
            "Drizzle,Snow,Fog                         95.866667        15.533333   \n",
            "Fog                                      92.286667         7.946667   \n",
            "Freezing Drizzle                         83.571429        16.571429   \n",
            "Freezing Drizzle,Fog                     88.500000        17.000000   \n",
            "Freezing Drizzle,Haze                    82.000000        10.333333   \n",
            "Freezing Drizzle,Snow                    86.090909        16.272727   \n",
            "Freezing Fog                             87.750000         4.750000   \n",
            "Freezing Rain                            84.642857        19.214286   \n",
            "Freezing Rain,Fog                        89.500000        15.500000   \n",
            "Freezing Rain,Haze                       82.500000         7.500000   \n",
            "Freezing Rain,Ice Pellets,Fog            92.000000        28.000000   \n",
            "Freezing Rain,Snow Grains                84.000000        32.000000   \n",
            "Haze                                     81.625000        10.437500   \n",
            "Mainly Clear                             60.667142        14.144824   \n",
            "Moderate Rain,Fog                        94.000000        17.000000   \n",
            "Moderate Snow                            87.750000        33.750000   \n",
            "Moderate Snow,Blowing Snow               92.500000        40.000000   \n",
            "Mostly Cloudy                            62.102465        15.813920   \n",
            "Rain                                     83.624183        19.254902   \n",
            "Rain Showers                             75.159574        17.132979   \n",
            "Rain Showers,Fog                         96.000000        13.000000   \n",
            "Rain Showers,Snow Showers                76.500000        22.500000   \n",
            "Rain,Fog                                 93.189655        14.793103   \n",
            "Rain,Haze                                83.333333        11.666667   \n",
            "Rain,Ice Pellets                         92.000000        24.000000   \n",
            "Rain,Snow                                89.000000        28.388889   \n",
            "Rain,Snow Grains                         75.000000        26.000000   \n",
            "Rain,Snow,Fog                            96.000000         9.000000   \n",
            "Rain,Snow,Ice Pellets                    91.500000        23.250000   \n",
            "Snow                                     79.307692        20.038462   \n",
            "Snow Pellets                             59.000000        35.000000   \n",
            "Snow Showers                             72.350000        19.233333   \n",
            "Snow Showers,Fog                         90.750000        13.750000   \n",
            "Snow,Blowing Snow                        84.473684        34.842105   \n",
            "Snow,Fog                                 90.675676        17.324324   \n",
            "Snow,Haze                                80.600000         5.000000   \n",
            "Snow,Ice Pellets                         87.666667        23.833333   \n",
            "Thunderstorms                            77.000000         7.500000   \n",
            "Thunderstorms,Heavy Rain Showers         88.000000         9.000000   \n",
            "Thunderstorms,Moderate Rain Showers,Fog  93.000000        15.000000   \n",
            "Thunderstorms,Rain                       89.000000        15.666667   \n",
            "Thunderstorms,Rain Showers               86.375000        18.312500   \n",
            "Thunderstorms,Rain Showers,Fog           84.000000        19.666667   \n",
            "Thunderstorms,Rain,Fog                   88.000000        19.000000   \n",
            "\n",
            "                                         Visibility_km   Press_kPa  \n",
            "Condição do Tempo                                                   \n",
            "Clear                                        30.153243  101.587443  \n",
            "Cloudy                                       26.625752  100.911441  \n",
            "Drizzle                                      17.931707  100.435366  \n",
            "Drizzle,Fog                                   5.257500  100.786625  \n",
            "Drizzle,Ice Pellets,Fog                       4.000000  100.790000  \n",
            "Drizzle,Snow                                 10.500000  100.890000  \n",
            "Drizzle,Snow,Fog                              5.513333   99.281333  \n",
            "Fog                                           6.248000  101.184067  \n",
            "Freezing Drizzle                              9.200000  100.202857  \n",
            "Freezing Drizzle,Fog                          5.266667  100.441667  \n",
            "Freezing Drizzle,Haze                         2.666667  100.316667  \n",
            "Freezing Drizzle,Snow                         5.872727  100.520909  \n",
            "Freezing Fog                                  0.650000  102.320000  \n",
            "Freezing Rain                                 8.242857   99.647143  \n",
            "Freezing Rain,Fog                             7.550000   99.945000  \n",
            "Freezing Rain,Haze                            2.400000  100.375000  \n",
            "Freezing Rain,Ice Pellets,Fog                 8.000000  100.950000  \n",
            "Freezing Rain,Snow Grains                     4.800000   98.560000  \n",
            "Haze                                          7.831250  101.482500  \n",
            "Mainly Clear                                 34.264862  101.248832  \n",
            "Moderate Rain,Fog                             6.400000   99.980000  \n",
            "Moderate Snow                                 0.750000  100.275000  \n",
            "Moderate Snow,Blowing Snow                    0.600000  100.570000  \n",
            "Mostly Cloudy                                31.253842  101.025288  \n",
            "Rain                                         18.856536  100.233333  \n",
            "Rain Showers                                 22.816489  100.404043  \n",
            "Rain Showers,Fog                              6.400000   99.830000  \n",
            "Rain Showers,Snow Showers                    21.700000  101.100000  \n",
            "Rain,Fog                                      6.873276  100.500862  \n",
            "Rain,Haze                                     6.700000  100.540000  \n",
            "Rain,Ice Pellets                              9.700000  100.120000  \n",
            "Rain,Snow                                    11.672222   99.951111  \n",
            "Rain,Snow Grains                             25.000000  100.600000  \n",
            "Rain,Snow,Fog                                 6.400000  100.730000  \n",
            "Rain,Snow,Ice Pellets                         6.000000  100.105000  \n",
            "Snow                                         11.171795  100.536103  \n",
            "Snow Pellets                                  2.400000   99.700000  \n",
            "Snow Showers                                 20.158333  100.963500  \n",
            "Snow Showers,Fog                              7.025000  101.292500  \n",
            "Snow,Blowing Snow                             4.105263   99.704737  \n",
            "Snow,Fog                                      4.537838  100.688649  \n",
            "Snow,Haze                                     4.640000  100.782000  \n",
            "Snow,Ice Pellets                              7.416667  100.548333  \n",
            "Thunderstorms                                24.550000  100.230000  \n",
            "Thunderstorms,Heavy Rain Showers              2.400000  100.260000  \n",
            "Thunderstorms,Moderate Rain Showers,Fog       3.200000  100.010000  \n",
            "Thunderstorms,Rain                           19.833333  100.420000  \n",
            "Thunderstorms,Rain Showers                   15.893750  100.233750  \n",
            "Thunderstorms,Rain Showers,Fog                9.700000  100.063333  \n",
            "Thunderstorms,Rain,Fog                        4.800000  100.080000  \n"
          ]
        },
        {
          "output_type": "stream",
          "name": "stderr",
          "text": [
            "<ipython-input-52-30d6619a25bd>:2: FutureWarning: The default value of numeric_only in DataFrameGroupBy.mean is deprecated. In a future version, numeric_only will default to False. Either specify numeric_only or select only columns which should be valid for the function.\n",
            "  media_por_condicao_tempo = df.groupby('Condição do Tempo').mean()\n"
          ]
        }
      ]
    },
    {
      "cell_type": "markdown",
      "source": [
        "Essas análises nos fornecem uma compreensão geral de como as diferentes variáveis meteorológicas se comportam em diferentes condições de tempo. Por exemplo, podemos ver como a temperatura, umidade, vento e visibilidade variam em condições de tempo específicas, o que pode ser útil para previsões meteorológicas e entender os padrões climáticos."
      ],
      "metadata": {
        "id": "wiq9M7UioD_m"
      }
    },
    {
      "cell_type": "markdown",
      "source": [
        "11. **Qual é o valor Mínimo e Máximo de cada coluna para cada 'Condição do Tempo'?**"
      ],
      "metadata": {
        "id": "ucRYsSnzoKCH"
      }
    },
    {
      "cell_type": "code",
      "source": [
        "\n",
        "# Calcular o valor mínimo e máximo de cada coluna para cada 'Condição do Tempo'\n",
        "min_max_por_condicao_tempo = df.groupby('Condição do Tempo').agg(['min', 'max'])\n",
        "\n",
        "# Imprimir o valor mínimo e máximo de cada coluna para cada 'Condição do Tempo'\n",
        "print(min_max_por_condicao_tempo)\n"
      ],
      "metadata": {
        "colab": {
          "base_uri": "https://localhost:8080/"
        },
        "id": "yp_zem_qoEpP",
        "outputId": "1b9b49a4-a700-4f32-ed5d-2e4e6db3b121"
      },
      "execution_count": null,
      "outputs": [
        {
          "output_type": "stream",
          "name": "stdout",
          "text": [
            "                                                Date/Time                    \\\n",
            "                                                      min               max   \n",
            "Condição do Tempo                                                             \n",
            "Clear                                      1/11/2012 1:00     9/9/2012 5:00   \n",
            "Cloudy                                     1/1/2012 17:00    9/9/2012 23:00   \n",
            "Drizzle                                   1/23/2012 21:00    9/30/2012 3:00   \n",
            "Drizzle,Fog                               1/23/2012 20:00    9/30/2012 2:00   \n",
            "Drizzle,Ice Pellets,Fog                   12/17/2012 9:00   12/17/2012 9:00   \n",
            "Drizzle,Snow                             12/17/2012 15:00  12/19/2012 18:00   \n",
            "Drizzle,Snow,Fog                         12/18/2012 21:00   12/22/2012 3:00   \n",
            "Fog                                         1/1/2012 0:00    9/22/2012 0:00   \n",
            "Freezing Drizzle                          1/13/2012 10:00     2/1/2012 5:00   \n",
            "Freezing Drizzle,Fog                        1/1/2012 2:00   12/10/2012 5:00   \n",
            "Freezing Drizzle,Haze                      2/1/2012 11:00    2/1/2012 13:00   \n",
            "Freezing Drizzle,Snow                      1/13/2012 3:00    3/2/2012 12:00   \n",
            "Freezing Fog                               1/22/2012 6:00    3/17/2012 6:00   \n",
            "Freezing Rain                             1/13/2012 11:00     2/1/2012 7:00   \n",
            "Freezing Rain,Fog                         1/17/2012 23:00   12/17/2012 1:00   \n",
            "Freezing Rain,Haze                         2/1/2012 14:00    2/1/2012 15:00   \n",
            "Freezing Rain,Ice Pellets,Fog             12/17/2012 3:00   12/17/2012 3:00   \n",
            "Freezing Rain,Snow Grains                  1/13/2012 9:00    1/13/2012 9:00   \n",
            "Haze                                      1/22/2012 12:00   3/13/2012 23:00   \n",
            "Mainly Clear                              1/10/2012 11:00     9/9/2012 9:00   \n",
            "Moderate Rain,Fog                         12/10/2012 8:00   12/10/2012 8:00   \n",
            "Moderate Snow                             1/12/2012 15:00   12/27/2012 9:00   \n",
            "Moderate Snow,Blowing Snow               12/27/2012 10:00  12/27/2012 12:00   \n",
            "Mostly Cloudy                              1/1/2012 16:00     9/9/2012 2:00   \n",
            "Rain                                       1/1/2012 18:00     9/5/2012 2:00   \n",
            "Rain Showers                               1/1/2012 22:00    9/8/2012 16:00   \n",
            "Rain Showers,Fog                          10/20/2012 3:00   10/20/2012 3:00   \n",
            "Rain Showers,Snow Showers                  11/4/2012 8:00   12/5/2012 10:00   \n",
            "Rain,Fog                                  1/23/2012 18:00   9/30/2012 23:00   \n",
            "Rain,Haze                                  3/13/2012 7:00    3/13/2012 9:00   \n",
            "Rain,Ice Pellets                          12/18/2012 5:00   12/18/2012 5:00   \n",
            "Rain,Snow                                  1/10/2012 5:00    4/23/2012 3:00   \n",
            "Rain,Snow Grains                          12/21/2012 0:00   12/21/2012 0:00   \n",
            "Rain,Snow,Fog                             12/8/2012 21:00   12/8/2012 21:00   \n",
            "Rain,Snow,Ice Pellets                     12/21/2012 1:00   12/21/2012 5:00   \n",
            "Snow                                       1/10/2012 1:00    4/27/2012 9:00   \n",
            "Snow Pellets                             11/24/2012 15:00  11/24/2012 15:00   \n",
            "Snow Showers                               1/12/2012 7:00    3/4/2012 21:00   \n",
            "Snow Showers,Fog                          12/26/2012 9:00  12/29/2012 13:00   \n",
            "Snow,Blowing Snow                         1/13/2012 21:00    2/25/2012 9:00   \n",
            "Snow,Fog                                 12/16/2012 15:00   3/14/2012 19:00   \n",
            "Snow,Haze                                  2/1/2012 17:00    2/1/2012 21:00   \n",
            "Snow,Ice Pellets                          12/10/2012 3:00     3/3/2012 4:00   \n",
            "Thunderstorms                              7/16/2012 1:00    7/4/2012 16:00   \n",
            "Thunderstorms,Heavy Rain Showers           5/29/2012 6:00    5/29/2012 6:00   \n",
            "Thunderstorms,Moderate Rain Showers,Fog    7/17/2012 6:00    7/17/2012 6:00   \n",
            "Thunderstorms,Rain                        5/25/2012 20:00   7/23/2012 18:00   \n",
            "Thunderstorms,Rain Showers                5/29/2012 16:00     9/8/2012 4:00   \n",
            "Thunderstorms,Rain Showers,Fog             6/29/2012 3:00   7/31/2012 20:00   \n",
            "Thunderstorms,Rain,Fog                     7/17/2012 5:00    7/17/2012 5:00   \n",
            "\n",
            "                                        Temp_C       Dew Point Temp_C        \\\n",
            "                                           min   max              min   max   \n",
            "Condição do Tempo                                                             \n",
            "Clear                                    -23.3  32.8            -28.5  20.4   \n",
            "Cloudy                                   -21.4  30.5            -26.8  22.6   \n",
            "Drizzle                                    1.1  18.8             -0.2  17.7   \n",
            "Drizzle,Fog                                0.0  19.9             -1.6  19.1   \n",
            "Drizzle,Ice Pellets,Fog                    0.4   0.4             -0.7  -0.7   \n",
            "Drizzle,Snow                               0.9   1.2              0.1   0.2   \n",
            "Drizzle,Snow,Fog                           0.3   1.1             -0.1   0.6   \n",
            "Fog                                      -16.0  20.8            -17.2  19.6   \n",
            "Freezing Drizzle                          -9.0  -2.3            -12.2  -3.3   \n",
            "Freezing Drizzle,Fog                      -6.4  -0.3             -9.0  -2.3   \n",
            "Freezing Drizzle,Haze                     -5.8  -5.0             -8.3  -7.7   \n",
            "Freezing Drizzle,Snow                     -8.3  -3.3            -10.4  -4.6   \n",
            "Freezing Fog                             -19.0  -0.1            -22.9  -0.3   \n",
            "Freezing Rain                             -6.5   0.3             -9.0  -1.7   \n",
            "Freezing Rain,Fog                         -6.1   0.1             -8.7  -0.9   \n",
            "Freezing Rain,Haze                        -4.9  -4.9             -7.5  -7.4   \n",
            "Freezing Rain,Ice Pellets,Fog             -2.6  -2.6             -3.7  -3.7   \n",
            "Freezing Rain,Snow Grains                 -5.0  -5.0             -7.3  -7.3   \n",
            "Haze                                     -11.5  14.1            -16.0  11.1   \n",
            "Mainly Clear                             -22.8  33.0            -28.0  21.2   \n",
            "Moderate Rain,Fog                          1.7   1.7              0.8   0.8   \n",
            "Moderate Snow                             -6.3  -4.9             -7.6  -6.7   \n",
            "Moderate Snow,Blowing Snow                -5.5  -5.4             -6.6  -6.4   \n",
            "Mostly Cloudy                            -23.2  32.4            -28.5  24.4   \n",
            "Rain                                       0.3  22.8             -5.7  20.4   \n",
            "Rain Showers                               1.6  26.4             -7.2  23.0   \n",
            "Rain Showers,Fog                          12.8  12.8             12.1  12.1   \n",
            "Rain Showers,Snow Showers                  2.1   2.2             -1.8  -1.2   \n",
            "Rain,Fog                                   0.0  21.7             -1.2  19.5   \n",
            "Rain,Haze                                  4.0   5.5              1.0   2.9   \n",
            "Rain,Ice Pellets                           0.6   0.6             -0.6  -0.6   \n",
            "Rain,Snow                                  0.6   1.7             -1.7   0.5   \n",
            "Rain,Snow Grains                           1.9   1.9             -2.1  -2.1   \n",
            "Rain,Snow,Fog                              0.8   0.8              0.3   0.3   \n",
            "Rain,Snow,Ice Pellets                      0.9   1.3             -0.7   0.1   \n",
            "Snow                                     -16.7   3.7            -24.6   0.3   \n",
            "Snow Pellets                               0.7   0.7             -6.4  -6.4   \n",
            "Snow Showers                             -13.3   2.9            -19.3  -0.7   \n",
            "Snow Showers,Fog                         -11.3 -10.0            -12.7 -11.1   \n",
            "Snow,Blowing Snow                        -12.0  -1.4            -16.2  -2.9   \n",
            "Snow,Fog                                 -10.1   1.1            -12.0   0.8   \n",
            "Snow,Haze                                 -4.3  -3.6             -7.2  -6.4   \n",
            "Snow,Ice Pellets                          -4.3   0.8             -5.9  -1.7   \n",
            "Thunderstorms                             21.6  26.7             19.4  20.1   \n",
            "Thunderstorms,Heavy Rain Showers          10.9  10.9              9.0   9.0   \n",
            "Thunderstorms,Moderate Rain Showers,Fog   19.6  19.6             18.5  18.5   \n",
            "Thunderstorms,Rain                        19.4  21.3             18.2  19.1   \n",
            "Thunderstorms,Rain Showers                11.0  25.5              7.0  23.1   \n",
            "Thunderstorms,Rain Showers,Fog            19.5  22.9             16.1  21.3   \n",
            "Thunderstorms,Rain,Fog                    20.6  20.6             18.6  18.6   \n",
            "\n",
            "                                        Rel Hum_%      Wind Speed_km/h      \\\n",
            "                                              min  max             min max   \n",
            "Condição do Tempo                                                            \n",
            "Clear                                          20   99               0  33   \n",
            "Cloudy                                         18   99               0  54   \n",
            "Drizzle                                        74   96               0  30   \n",
            "Drizzle,Fog                                    85  100               0  28   \n",
            "Drizzle,Ice Pellets,Fog                        92   92              20  20   \n",
            "Drizzle,Snow                                   92   95               9  19   \n",
            "Drizzle,Snow,Fog                               92   98               7  32   \n",
            "Fog                                            80  100               0  22   \n",
            "Freezing Drizzle                               78   93               6  26   \n",
            "Freezing Drizzle,Fog                           82   94               6  33   \n",
            "Freezing Drizzle,Haze                          81   83               9  11   \n",
            "Freezing Drizzle,Snow                          79   94               6  24   \n",
            "Freezing Fog                                   71   99               0   9   \n",
            "Freezing Rain                                  81   92               7  28   \n",
            "Freezing Rain,Fog                              82   93               7  26   \n",
            "Freezing Rain,Haze                             82   83               6   9   \n",
            "Freezing Rain,Ice Pellets,Fog                  92   92              28  28   \n",
            "Freezing Rain,Snow Grains                      84   84              32  32   \n",
            "Haze                                           68   86               0  17   \n",
            "Mainly Clear                                   20   99               0  63   \n",
            "Moderate Rain,Fog                              94   94              17  17   \n",
            "Moderate Snow                                  83   93              26  39   \n",
            "Moderate Snow,Blowing Snow                     92   93              39  41   \n",
            "Mostly Cloudy                                  18  100               0  83   \n",
            "Rain                                           40   99               0  52   \n",
            "Rain Showers                                   37   97               0  41   \n",
            "Rain Showers,Fog                               96   96              13  13   \n",
            "Rain Showers,Snow Showers                      75   78              17  28   \n",
            "Rain,Fog                                       83  100               0  46   \n",
            "Rain,Haze                                      81   86               7  17   \n",
            "Rain,Ice Pellets                               92   92              24  24   \n",
            "Rain,Snow                                      81   94              13  52   \n",
            "Rain,Snow Grains                               75   75              26  26   \n",
            "Rain,Snow,Fog                                  96   96               9   9   \n",
            "Rain,Snow,Ice Pellets                          88   94              17  28   \n",
            "Snow                                           41   96               0  57   \n",
            "Snow Pellets                                   59   59              35  35   \n",
            "Snow Showers                                   52   94               0  37   \n",
            "Snow Showers,Fog                               89   92               7  22   \n",
            "Snow,Blowing Snow                              70   91              24  48   \n",
            "Snow,Fog                                       77   99               4  35   \n",
            "Snow,Haze                                      80   81               0  15   \n",
            "Snow,Ice Pellets                               76   92              19  33   \n",
            "Thunderstorms                                  67   87               0  15   \n",
            "Thunderstorms,Heavy Rain Showers               88   88               9   9   \n",
            "Thunderstorms,Moderate Rain Showers,Fog        93   93              15  15   \n",
            "Thunderstorms,Rain                             83   93               4  30   \n",
            "Thunderstorms,Rain Showers                     68   98               7  32   \n",
            "Thunderstorms,Rain Showers,Fog                 80   91               7  35   \n",
            "Thunderstorms,Rain,Fog                         88   88              19  19   \n",
            "\n",
            "                                        Visibility_km       Press_kPa          \n",
            "                                                  min   max       min     max  \n",
            "Condição do Tempo                                                              \n",
            "Clear                                            11.3  48.3     99.52  103.63  \n",
            "Cloudy                                           11.3  48.3     98.39  103.65  \n",
            "Drizzle                                           6.4  25.0     97.84  101.56  \n",
            "Drizzle,Fog                                       1.0   9.7     98.65  102.07  \n",
            "Drizzle,Ice Pellets,Fog                           4.0   4.0    100.79  100.79  \n",
            "Drizzle,Snow                                      9.7  11.3    100.63  101.15  \n",
            "Drizzle,Snow,Fog                                  2.4   9.7     97.79  100.15  \n",
            "Fog                                               0.2   9.7     98.31  103.04  \n",
            "Freezing Drizzle                                  4.8  12.9     98.44  101.02  \n",
            "Freezing Drizzle,Fog                              3.6   8.0     98.74  101.27  \n",
            "Freezing Drizzle,Haze                             2.0   4.0    100.28  100.36  \n",
            "Freezing Drizzle,Snow                             2.4  12.9     99.19  101.18  \n",
            "Freezing Fog                                      0.2   0.8    101.97  102.85  \n",
            "Freezing Rain                                     2.8  16.1     98.22  101.00  \n",
            "Freezing Rain,Fog                                 2.8   9.7     98.32  101.01  \n",
            "Freezing Rain,Haze                                2.0   2.8    100.34  100.41  \n",
            "Freezing Rain,Ice Pellets,Fog                     8.0   8.0    100.95  100.95  \n",
            "Freezing Rain,Snow Grains                         4.8   4.8     98.56   98.56  \n",
            "Haze                                              4.8   9.7    100.35  102.97  \n",
            "Mainly Clear                                     12.9  48.3     98.67  103.59  \n",
            "Moderate Rain,Fog                                 6.4   6.4     99.98   99.98  \n",
            "Moderate Snow                                     0.6   0.8     99.88  100.67  \n",
            "Moderate Snow,Blowing Snow                        0.6   0.6    100.50  100.64  \n",
            "Mostly Cloudy                                    11.3  48.3     98.36  103.65  \n",
            "Rain                                              4.0  48.3     97.52  102.26  \n",
            "Rain Showers                                      6.4  48.3     98.51  102.31  \n",
            "Rain Showers,Fog                                  6.4   6.4     99.83   99.83  \n",
            "Rain Showers,Snow Showers                        19.3  24.1    101.09  101.11  \n",
            "Rain,Fog                                          2.0   9.7     98.61  101.77  \n",
            "Rain,Haze                                         4.0   9.7    100.50  100.61  \n",
            "Rain,Ice Pellets                                  9.7   9.7    100.12  100.12  \n",
            "Rain,Snow                                         2.4  25.0     98.18  101.07  \n",
            "Rain,Snow Grains                                 25.0  25.0    100.60  100.60  \n",
            "Rain,Snow,Fog                                     6.4   6.4    100.73  100.73  \n",
            "Rain,Snow,Ice Pellets                             4.8   6.4     99.85  100.47  \n",
            "Snow                                              1.0  25.0     97.75  102.73  \n",
            "Snow Pellets                                      2.4   2.4     99.70   99.70  \n",
            "Snow Showers                                      2.4  48.3     99.49  102.50  \n",
            "Snow Showers,Fog                                  4.0   9.7    100.63  102.52  \n",
            "Snow,Blowing Snow                                 0.6   9.7     98.11  100.62  \n",
            "Snow,Fog                                          1.2   9.7     99.38  102.07  \n",
            "Snow,Haze                                         4.0   6.4    100.61  100.99  \n",
            "Snow,Ice Pellets                                  2.8  11.3     99.40  100.96  \n",
            "Thunderstorms                                    24.1  25.0     99.84  100.62  \n",
            "Thunderstorms,Heavy Rain Showers                  2.4   2.4    100.26  100.26  \n",
            "Thunderstorms,Moderate Rain Showers,Fog           3.2   3.2    100.01  100.01  \n",
            "Thunderstorms,Rain                               16.1  24.1    100.19  100.83  \n",
            "Thunderstorms,Rain Showers                        6.4  25.0     99.65  101.06  \n",
            "Thunderstorms,Rain Showers,Fog                    9.7   9.7     99.71  100.64  \n",
            "Thunderstorms,Rain,Fog                            4.8   4.8    100.08  100.08  \n"
          ]
        }
      ]
    },
    {
      "cell_type": "markdown",
      "source": [
        "podemos observar algumas tendências e padrões:\n",
        "\n",
        "1. **Temperatura (Temp_C):**\n",
        "   - A temperatura mínima varia de -23.3°C (para a condição de tempo 'Clear') a 21.6°C (para 'Thunderstorms').\n",
        "   - A temperatura máxima varia de 32.8°C (para 'Clear') a 26.7°C (para 'Thunderstorms').\n",
        "   - Geralmente, as temperaturas são mais extremas em condições de tempo extremo, como tempestades.\n",
        "\n",
        "2. **Ponto de Orvalho (Dew Point Temp_C):**\n",
        "   - O ponto de orvalho mínimo varia de -28.5°C (para 'Clear') a 20.1°C (para 'Thunderstorms').\n",
        "   - O ponto de orvalho máximo varia de -0.7°C (para 'Drizzle,Ice Pellets,Fog') a 20.4°C (para 'Clear').\n",
        "   - O ponto de orvalho tende a ser mais baixo em condições de tempo mais secas.\n",
        "\n",
        "3. **Umidade Relativa (Rel Hum_%):**\n",
        "   - A umidade relativa mínima varia de 20% (para 'Clear') a 67% (para 'Thunderstorms').\n",
        "   - A umidade relativa máxima varia de 86% (para 'Thunderstorms,Haze') a 100% (para várias condições, como 'Drizzle,Fog', 'Fog', 'Rain Showers,Fog', etc.).\n",
        "   - Condições de tempo mais úmidas, como nevoeiro e chuva, tendem a ter umidade relativa próxima a 100%.\n",
        "\n",
        "4. **Velocidade do Vento (Wind Speed_km/h):**\n",
        "   - A velocidade mínima do vento é geralmente 0 km/h para todas as condições.\n",
        "   - A velocidade máxima do vento varia de 15 km/h (para 'Thunderstorms') a 63 km/h (para 'Mainly Clear').\n",
        "   - Tempestades e condições de vento forte tendem a ter velocidades de vento mais altas.\n",
        "\n",
        "5. **Visibilidade (Visibility_km):**\n",
        "   - A visibilidade mínima varia de 0.2 km (para 'Fog') a 25.0 km (para 'Thunderstorms').\n",
        "   - A visibilidade máxima é geralmente 48.3 km para todas as condições.\n",
        "   - Condições de neblina e neve tendem a ter visibilidade mais baixa.\n",
        "\n",
        "6. **Pressão Atmosférica (Press_kPa):**\n",
        "   - A pressão mínima varia de 97.52 kPa (para 'Rain') a 100.95 kPa (para 'Freezing Rain,Ice Pellets,Fog').\n",
        "   - A pressão máxima varia de 100.47 kPa (para 'Rain,Snow,Ice Pellets') a 103.65 kPa (para 'Cloudy' e 'Mainly Clear').\n",
        "   - Não parece haver uma tendência clara com base na condição do tempo, embora a pressão atmosférica possa variar dependendo de vários fatores meteorológicos.\n",
        "\n",
        "Essa análise fornece uma visão geral dos extremos e variações nas condições meteorológicas."
      ],
      "metadata": {
        "id": "Xg5c_2F-o45W"
      }
    },
    {
      "cell_type": "markdown",
      "source": [
        "12. **Mostrar todos os Registros onde a Condição do Tempo é Neblina.**"
      ],
      "metadata": {
        "id": "LUtY8vITpLQW"
      }
    },
    {
      "cell_type": "code",
      "source": [
        "# Filtro para mostrar todos os registros onde a condição do tempo é neblina\n",
        "neblina_df = df[df['Condição do Tempo'] == 'Fog']\n",
        "\n",
        "# Mostrar os registros filtrados\n",
        "print(neblina_df)\n"
      ],
      "metadata": {
        "colab": {
          "base_uri": "https://localhost:8080/"
        },
        "id": "qTGneB9_o-AE",
        "outputId": "d97e9440-3fc1-417d-9d91-dfb47e8266c8"
      },
      "execution_count": null,
      "outputs": [
        {
          "output_type": "stream",
          "name": "stdout",
          "text": [
            "             Date/Time  Temp_C  Dew Point Temp_C  Rel Hum_%  Wind Speed_km/h  \\\n",
            "0        1/1/2012 0:00    -1.8              -3.9         86                4   \n",
            "1        1/1/2012 1:00    -1.8              -3.7         87                4   \n",
            "4        1/1/2012 4:00    -1.5              -3.3         88                7   \n",
            "5        1/1/2012 5:00    -1.4              -3.3         87                9   \n",
            "6        1/1/2012 6:00    -1.5              -3.1         89                7   \n",
            "...                ...     ...               ...        ...              ...   \n",
            "8716   12/29/2012 4:00   -16.0             -17.2         90                6   \n",
            "8717   12/29/2012 5:00   -14.8             -15.9         91                4   \n",
            "8718   12/29/2012 6:00   -13.8             -15.3         88                4   \n",
            "8719   12/29/2012 7:00   -14.8             -16.4         88                7   \n",
            "8722  12/29/2012 10:00   -12.0             -13.3         90                7   \n",
            "\n",
            "      Visibility_km  Press_kPa Condição do Tempo  \n",
            "0               8.0     101.24               Fog  \n",
            "1               8.0     101.24               Fog  \n",
            "4               4.8     101.23               Fog  \n",
            "5               6.4     101.27               Fog  \n",
            "6               6.4     101.29               Fog  \n",
            "...             ...        ...               ...  \n",
            "8716            9.7     101.25               Fog  \n",
            "8717            6.4     101.25               Fog  \n",
            "8718            9.7     101.25               Fog  \n",
            "8719            8.0     101.22               Fog  \n",
            "8722            6.4     101.15               Fog  \n",
            "\n",
            "[150 rows x 8 columns]\n"
          ]
        }
      ]
    },
    {
      "cell_type": "markdown",
      "source": [
        " A temperatura estava relativamente baixa, a umidade estava alta e a visibilidade estava reduzida. Isso é consistente com as condições típicas associadas à neblina, onde a umidade elevada e a presença de partículas de água suspensas no ar reduzem a visibilidade e podem causar desconforto ao ar livre."
      ],
      "metadata": {
        "id": "bO-TUtHRp3Bu"
      }
    },
    {
      "cell_type": "markdown",
      "source": [
        "13. **Encontrar todas as instâncias quando o 'Tempo está Limpo' ou 'Visibilidade é acima de 40'.**"
      ],
      "metadata": {
        "id": "qB-qyz2EpcKe"
      }
    },
    {
      "cell_type": "code",
      "source": [
        "# Filtro para encontrar todas as instâncias em que o tempo está limpo ou a visibilidade é acima de 40\n",
        "filtro = (df['Condição do Tempo'] == 'Clear') | (df['Visibility_km'] > 40)\n",
        "\n",
        "# Aplicar o filtro ao DataFrame\n",
        "instancias = df[filtro]\n",
        "\n",
        "# Mostrar as instâncias encontradas\n",
        "print(instancias)\n"
      ],
      "metadata": {
        "colab": {
          "base_uri": "https://localhost:8080/"
        },
        "id": "SVT70086pc_M",
        "outputId": "fa5af635-c81a-4c31-ae8a-c947e46d75ef"
      },
      "execution_count": null,
      "outputs": [
        {
          "output_type": "stream",
          "name": "stdout",
          "text": [
            "             Date/Time  Temp_C  Dew Point Temp_C  Rel Hum_%  Wind Speed_km/h  \\\n",
            "67      1/3/2012 19:00   -16.9             -24.8         50               24   \n",
            "106     1/5/2012 10:00    -6.0             -10.0         73               17   \n",
            "107     1/5/2012 11:00    -5.6             -10.2         70               22   \n",
            "108     1/5/2012 12:00    -4.7              -9.6         69               20   \n",
            "109     1/5/2012 13:00    -4.4              -9.7         66               26   \n",
            "...                ...     ...               ...        ...              ...   \n",
            "8749  12/30/2012 13:00   -12.4             -16.2         73               37   \n",
            "8750  12/30/2012 14:00   -11.8             -16.1         70               37   \n",
            "8751  12/30/2012 15:00   -11.3             -15.6         70               32   \n",
            "8752  12/30/2012 16:00   -11.4             -15.5         72               26   \n",
            "8756  12/30/2012 20:00   -13.8             -16.5         80               24   \n",
            "\n",
            "      Visibility_km  Press_kPa Condição do Tempo  \n",
            "67             25.0     101.74             Clear  \n",
            "106            48.3     100.45      Mainly Clear  \n",
            "107            48.3     100.41      Mainly Clear  \n",
            "108            48.3     100.38      Mainly Clear  \n",
            "109            48.3     100.40      Mainly Clear  \n",
            "...             ...        ...               ...  \n",
            "8749           48.3     100.92     Mostly Cloudy  \n",
            "8750           48.3     100.96      Mainly Clear  \n",
            "8751           48.3     101.05      Mainly Clear  \n",
            "8752           48.3     101.15      Mainly Clear  \n",
            "8756           25.0     101.52             Clear  \n",
            "\n",
            "[3027 rows x 8 columns]\n"
          ]
        }
      ]
    },
    {
      "cell_type": "markdown",
      "source": [
        " Durante os períodos em que o tempo está claro ou a visibilidade é alta, as condições meteorológicas são favoráveis, com temperaturas frias, umidade variada e ventos moderados. A alta visibilidade indica uma atmosfera clara e sem obstruções visuais significativas.\n",
        "\n",
        "\n",
        "\n",
        "\n"
      ],
      "metadata": {
        "id": "kBkPvsjpqqdM"
      }
    },
    {
      "cell_type": "markdown",
      "source": [
        "14. **Encontrar todas as instâncias quando:**\n",
        "    \n",
        "    A. 'Tempo está Limpo' e 'Umidade Relativa é maior que 50'\n",
        "    ou\n",
        "    \n",
        "    B. 'Visibilidade é acima de 40'."
      ],
      "metadata": {
        "id": "zdJqAe1jq2Np"
      }
    },
    {
      "cell_type": "code",
      "source": [
        "# Filtrando as instâncias quando o 'Tempo está Limpo' e 'Umidade Relativa é maior que 50'\n",
        "condicao_A = df[(df['Condição do Tempo'] == 'Clear') & (df['Rel Hum_%'] > 50)]\n",
        "\n",
        "# Filtrando as instâncias quando 'Visibilidade é acima de 40'\n",
        "condicao_B = df[df['Visibility_km'] > 40]\n",
        "\n",
        "# Unindo os resultados das duas condições usando a operação lógica \"ou\" (|)\n",
        "instancias_filtradas = condicao_A.append(condicao_B).drop_duplicates()\n",
        "\n",
        "# Mostrando o resultado\n",
        "print(instancias_filtradas)\n",
        "\n"
      ],
      "metadata": {
        "colab": {
          "base_uri": "https://localhost:8080/"
        },
        "id": "Ju8QfX6tr856",
        "outputId": "0d5ad595-79a7-496b-eb93-f37ed051a2ea"
      },
      "execution_count": null,
      "outputs": [
        {
          "output_type": "stream",
          "name": "stdout",
          "text": [
            "             Date/Time  Temp_C  Dew Point Temp_C  Rel Hum_%  Wind Speed_km/h  \\\n",
            "114     1/5/2012 18:00    -7.1             -14.4         56               11   \n",
            "115     1/5/2012 19:00    -9.2             -15.4         61                7   \n",
            "116     1/5/2012 20:00    -9.8             -15.7         62                9   \n",
            "117     1/5/2012 21:00    -9.0             -14.8         63               13   \n",
            "241     1/11/2012 1:00   -10.7             -17.8         56               17   \n",
            "...                ...     ...               ...        ...              ...   \n",
            "8748  12/30/2012 12:00   -12.2             -15.7         75               26   \n",
            "8749  12/30/2012 13:00   -12.4             -16.2         73               37   \n",
            "8750  12/30/2012 14:00   -11.8             -16.1         70               37   \n",
            "8751  12/30/2012 15:00   -11.3             -15.6         70               32   \n",
            "8752  12/30/2012 16:00   -11.4             -15.5         72               26   \n",
            "\n",
            "      Visibility_km  Press_kPa Condição do Tempo  \n",
            "114            25.0     100.71             Clear  \n",
            "115            25.0     100.80             Clear  \n",
            "116            25.0     100.83             Clear  \n",
            "117            25.0     100.83             Clear  \n",
            "241            25.0     101.49             Clear  \n",
            "...             ...        ...               ...  \n",
            "8748           48.3     100.91     Mostly Cloudy  \n",
            "8749           48.3     100.92     Mostly Cloudy  \n",
            "8750           48.3     100.96      Mainly Clear  \n",
            "8751           48.3     101.05      Mainly Clear  \n",
            "8752           48.3     101.15      Mainly Clear  \n",
            "\n",
            "[2921 rows x 8 columns]\n"
          ]
        },
        {
          "output_type": "stream",
          "name": "stderr",
          "text": [
            "<ipython-input-64-fea6209cc4b2>:8: FutureWarning: The frame.append method is deprecated and will be removed from pandas in a future version. Use pandas.concat instead.\n",
            "  instancias_filtradas = condicao_A.append(condicao_B).drop_duplicates()\n"
          ]
        }
      ]
    },
    {
      "cell_type": "markdown",
      "source": [
        "Então, imagine que estamos fazendo uma espécie de filtro de café, só que ao invés de café, estamos filtrando dados meteorológicos. Nosso filtro tem duas opções: **A** e **B**, cada uma com seu próprio sabor.\n",
        "\n",
        "**Opção A**: Aqui, estamos procurando por momentos em que o céu está tão claro quanto a mente de um monge zen, ou seja, quando o 'Tempo está Limpo'. Mas não é só isso! Também estamos procurando por umidade relativa maior que 50%, o que significa que o ar está um pouco mais úmido. Então, pense nessa opção como encontrar aqueles momentos em que o céu está claro e o ar está tão fresco que você pode sentir sua pele ficar ligeiramente úmida.\n",
        "\n",
        "**Opção B**: Agora, nesta opção, estamos nos concentrando na visibilidade. Quando dizemos que 'Visibilidade é acima de 40', estamos falando sobre aqueles momentos em que você pode ver mais longe do que um telescópio! É como se o ar estivesse tão limpo e transparente que você pode ver até mesmo o mais distante dos horizontes.\n",
        "\n",
        "Agora, combinamos essas duas opções em uma única xícara de dados filtrados. Então, se quisermos saber quando o céu está claro e o ar está um pouco úmido **OU** quando a visibilidade está incrivelmente alta, podemos simplesmente olhar para os resultados desse filtro.\n",
        "\n",
        "E aí está! Uma bela mistura de dados meteorológicos filtrados, com um toque de metáfora de café."
      ],
      "metadata": {
        "id": "Ue7lO46XsutD"
      }
    },
    {
      "cell_type": "markdown",
      "source": [
        "# **Conclusão**\n",
        "\n",
        "Começamos nossa aventura no mundo dos dados climáticos como verdadeiros exploradores, ansiosos para desvendar os mistérios escondidos nas entrelinhas das informações sobre temperatura, umidade e visibilidade. Como bons aventureiros, nos deparamos com desafios, como encontrar registros de condições específicas, como neblina, e descobrir momentos em que o céu estava tão claro que até mesmo um vampiro se sentiria tentado a dar uma voltinha ao ar livre.\n",
        "\n",
        "Entre linhas de código e resultados de pesquisa, mergulhamos no mundo da meteorologia de uma maneira que talvez nem os próprios meteorologistas imaginem. Exploramos condições como neblina, dias claros e visibilidade excepcional, encontrando padrões e conexões entre os dados que nos ajudaram a entender melhor o comportamento do clima.\n",
        "\n",
        "Com uma pitada de bom humor, transformamos números e datas em histórias cativantes sobre dias ensolarados, noites nebulosas e momentos em que o ar estava tão fresco que até os dados pareciam mais claros. Cada linha de código era como um traço em um mapa do tesouro, nos levando a descobrir novos insights e compreender melhor os caprichos da natureza.\n",
        "\n",
        "E assim, nossa jornada chega ao fim com uma coleção de análises, visualizações e histórias sobre o clima que nos rodeia. Embora nosso tempo juntos possa ter sido breve, tenho certeza de que deixamos uma marca duradoura nos vastos domínios dos dados climáticos, transformando números em narrativas e transformando análises em aventuras.\n",
        "\n",
        "Que essa experiência nos lembre sempre da magia que pode ser encontrada nos dados, e que continuemos explorando os mistérios do clima com curiosidade, humor e uma boa dose de inteligência. Até a próxima aventura!"
      ],
      "metadata": {
        "id": "oPqycOm3tHco"
      }
    },
    {
      "cell_type": "markdown",
      "source": [],
      "metadata": {
        "id": "bbpv1f3OrMED"
      }
    }
  ]
}